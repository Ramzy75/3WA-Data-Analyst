{
 "cells": [
  {
   "cell_type": "markdown",
   "metadata": {},
   "source": [
    "Correction moyenne\n",
    "\n",
    "- On utilise le module statistic et la fonction mean de ce module\n",
    "\n",
    "Remarque : la fonction mean prendra en paramètre un ensemble de valeur(s) et retournera la moyenne de ces valeurs.\n",
    "\n",
    "```python\n",
    "# import statistic\n",
    "\n",
    "# ou importer juste la fonction mean du module statistic\n",
    "from statistic import mean\n",
    "\n",
    "notes = [12,13,15.6, 20, 17]\n",
    "\n",
    "# donnera la moyenne des notes\n",
    "print(mean(notes))\n",
    "```\n",
    "\n",
    "Correction de l'exercice :\n",
    "\n",
    "```python\n",
    "from argparse import ArgumentParser\n",
    "from statistics import mean\n",
    "\n",
    "# initialisation de l'objet pour \"parser\" les arguments\n",
    "# passés dans la console après le nom du fichier python moyenne.py arg1 arg2 ...\n",
    "parser = ArgumentParser()\n",
    "\n",
    "# Définition d'une super variable qui récupère tous les paramètres arg1, arg2, ...\n",
    "# nargs = \"*\" => nombre d'arguments variable de 1 à N\n",
    "parser.add_argument(dest=\"nombres\", type=int, nargs='*', help=\"entier\")\n",
    "\n",
    "# On récupère le flux en entrée console => programme Python\n",
    "input_args = parser.parse_args()\n",
    "\n",
    "# assignation des valeurs\n",
    "nombres = input_args.nombres\n",
    "\n",
    "# C'est une liste de valeur(s)\n",
    "print(nombres)\n",
    "resultat = mean(nombres)\n",
    "print(\"La moyenne de la série de nombres est : {}\".format(resultat))\n",
    "\n",
    "# Vous pouvez en Python3.6 utiliser la syntaxe suivante également pour traiter les chaînes # de caractères et les variables dans les chaînes\n",
    "```"
   ]
  }
 ],
 "metadata": {
  "kernelspec": {
   "display_name": "Python 3",
   "language": "python",
   "name": "python3"
  },
  "language_info": {
   "codemirror_mode": {
    "name": "ipython",
    "version": 3
   },
   "file_extension": ".py",
   "mimetype": "text/x-python",
   "name": "python",
   "nbconvert_exporter": "python",
   "pygments_lexer": "ipython3",
   "version": "3.5.2"
  }
 },
 "nbformat": 4,
 "nbformat_minor": 2
}
